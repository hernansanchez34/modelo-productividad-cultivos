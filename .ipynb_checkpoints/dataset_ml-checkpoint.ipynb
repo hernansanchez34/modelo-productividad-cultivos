{
 "cells": [
  {
   "cell_type": "code",
   "execution_count": 8,
   "id": "73a086f4-cf86-49eb-a525-4271bed04ac5",
   "metadata": {
    "editable": true,
    "slideshow": {
     "slide_type": ""
    },
    "tags": []
   },
   "outputs": [],
   "source": [
    "import pandas as pd\n",
    "#renombrar las columnas del df pues xgboost no deja tener simbolos de < >\n",
    "df = pd.read_csv(\"data/ml_csv/dataset_entrenamiento.csv\")\n",
    "\n",
    "# Renombrar columnas con '<' y '.' en 'strategy' usando un diccionario\n",
    "df.columns = [\n",
    "    col.replace(\"<\", \"_\").replace(\">\", \"_\").replace(\".\", \"_\").replace(\"[\", \"_\").replace(\"]\", \"_\")\n",
    "    for col in df.columns\n",
    "]"
   ]
  },
  {
   "cell_type": "code",
   "execution_count": 9,
   "id": "fbed0841-8085-4c24-a262-427e38fc7eca",
   "metadata": {},
   "outputs": [
    {
     "data": {
      "text/plain": [
       "Index(['IRRAD', 'TMIN', 'TMAX', 'VAP', 'WIND', 'RAIN', 'days_since_emergence',\n",
       "       'TWSO', 'soil_EC1', 'soil_EC2', 'soil_EC3', 'strategy_SM_0_1',\n",
       "       'strategy_SM_0_15', 'strategy_SM_0_2', 'strategy_SM_0_25',\n",
       "       'strategy_SM_0_3', 'strategy_SM_0_35', 'strategy_SM_0_4',\n",
       "       'strategy_SM_0_45', 'strategy_SM_0_5'],\n",
       "      dtype='object')"
      ]
     },
     "execution_count": 9,
     "metadata": {},
     "output_type": "execute_result"
    }
   ],
   "source": [
    "df.columns"
   ]
  },
  {
   "cell_type": "code",
   "execution_count": 10,
   "id": "2c495a4e-7a8f-459b-80c6-e1a672aa0467",
   "metadata": {},
   "outputs": [],
   "source": [
    "# Guardar el nuevo dataset\n",
    "df.to_csv(\"data/ml_csv/dataset_entrenamiento_clean.csv\", index=False)"
   ]
  },
  {
   "cell_type": "code",
   "execution_count": 4,
   "id": "dcab8858-5a9b-41a8-bc2c-8c1f43e1a514",
   "metadata": {},
   "outputs": [
    {
     "data": {
      "text/plain": [
       "Index(['IRRAD', 'TMIN', 'TMAX', 'VAP', 'WIND', 'RAIN', 'days_since_emergence',\n",
       "       'TWSO', 'soil_EC1', 'soil_EC2', 'soil_EC3', 'strategy_SM<0.1',\n",
       "       'strategy_SM<0.15', 'strategy_SM<0.2', 'strategy_SM<0.25',\n",
       "       'strategy_SM<0.3', 'strategy_SM<0.35', 'strategy_SM<0.4',\n",
       "       'strategy_SM<0.45', 'strategy_SM<0.5'],\n",
       "      dtype='object')"
      ]
     },
     "execution_count": 4,
     "metadata": {},
     "output_type": "execute_result"
    }
   ],
   "source": [
    "df2 = pd.read_csv(\"data/ml_csv/dataset_entrenamiento_clean.csv\")\n",
    "df2.columns"
   ]
  },
  {
   "cell_type": "code",
   "execution_count": null,
   "id": "a27cb179-e1c4-4965-91e1-6e621e7d91d1",
   "metadata": {},
   "outputs": [],
   "source": [
    "df = pd.read_csv(\"data/ml_csv/dataset_entrenamiento_clean.csv\")"
   ]
  }
 ],
 "metadata": {
  "kernelspec": {
   "display_name": "simulacion",
   "language": "python",
   "name": "simulacion"
  },
  "language_info": {
   "codemirror_mode": {
    "name": "ipython",
    "version": 3
   },
   "file_extension": ".py",
   "mimetype": "text/x-python",
   "name": "python",
   "nbconvert_exporter": "python",
   "pygments_lexer": "ipython3",
   "version": "3.10.17"
  }
 },
 "nbformat": 4,
 "nbformat_minor": 5
}
